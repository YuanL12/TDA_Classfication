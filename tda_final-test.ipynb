{
 "cells": [
  {
   "cell_type": "code",
   "execution_count": 1,
   "metadata": {},
   "outputs": [],
   "source": [
    "import gudhi\n",
    "import itertools\n",
    "import numpy as np\n",
    "import math\n",
    "import random\n",
    "import matplotlib.pyplot as plt\n",
    "from random import randint\n",
    "import time"
   ]
  },
  {
   "cell_type": "code",
   "execution_count": 2,
   "metadata": {},
   "outputs": [],
   "source": [
    "#Build a simplex tree with edge collapsing\n",
    "def build_st(P):\n",
    "    \"\"\"\n",
    "    Input: P is a nxd data set\n",
    "    Output:return a simplex tree\n",
    "    \"\"\"\n",
    "    rips_complex = gudhi.RipsComplex(points=[P[i] for i in range(P.shape[0])])\n",
    "    simplex_tree = rips_complex.create_simplex_tree(max_dimension=3)\n",
    "    #simplex_tree.collapse_edges()\n",
    "    #simplex_tree.expansion(2)\n",
    "    \n",
    "    return simplex_tree\n",
    "\n",
    "\n",
    "#Computing the persistence interval set D\n",
    "def get_interval(K):\n",
    "    \"\"\"\n",
    "    Input: a simplicial complex K\n",
    "    Output:a dictionary in the form of {(<persistence interval>): <simplicial complex>}\n",
    "    \"\"\"\n",
    "    simplex_tree = K\n",
    "    int_info = {}\n",
    "    filt = []\n",
    "    for i in simplex_tree.get_filtration(): # a list: [((simplex), <filtration value>)]\n",
    "        filt.append(i)\n",
    "    pers = []\n",
    "    max_dt = 0\n",
    "    for i in simplex_tree.persistence():\n",
    "        if i[1][1] >= max_dt and i[1][1] != np.inf:\n",
    "            max_dt = i[1][1]\n",
    "    for i in simplex_tree.persistence(): # a list: [([dimension], (<persistence interval>))]\n",
    "        if i[1][1] == np.inf:\n",
    "            pers.append((i[0], (i[1][0], max_dt)))\n",
    "        else:\n",
    "            pers.append(i)\n",
    "    for i in pers:\n",
    "        if i[0] == 1:\n",
    "            l, u = i[1]\n",
    "            st = gudhi.SimplexTree()\n",
    "            for j in filt:\n",
    "                if j[1] <= l:\n",
    "                    st.insert(j[0], j[1])\n",
    "            int_info[(l, u)] = st\n",
    "        \n",
    "    return int_info"
   ]
  },
  {
   "cell_type": "code",
   "execution_count": 3,
   "metadata": {},
   "outputs": [],
   "source": [
    "def choose_int(int_info, method):\n",
    "    \"\"\"\n",
    "    arg: method can be \"max\"|\"rand\"|\"avg\"\n",
    "    Output: a filtration chosen from max persistence interval\n",
    "    \"\"\"\n",
    "    f = None\n",
    "    intervals = list(int_info.keys())\n",
    "    avg_d = np.mean([abs(i[0]-i[1]) for i in intervals])\n",
    "    max_d = np.max([abs(i[0]-i[1]) for i in intervals])\n",
    "    rand  = randint(0,len(intervals)-1)\n",
    "    if method == 'max':\n",
    "        for i in intervals:\n",
    "            if abs(i[0]-i[1]) == max_d:\n",
    "                inte = i\n",
    "                f = int_info[inte]\n",
    "    elif method == 'rand':\n",
    "        inte = intervals[rand]\n",
    "        f = int_info[inte]\n",
    "    elif method == 'avg':\n",
    "        d = np.inf\n",
    "        for i in intervals:\n",
    "            if abs(avg_d - abs(i[0]-i[1])) <= d:\n",
    "                inte = i\n",
    "                f = int_info[inte]\n",
    "                d = abs(avg_d - abs(i[0]-i[1]))\n",
    "\n",
    "    return f, inte"
   ]
  },
  {
   "cell_type": "code",
   "execution_count": 4,
   "metadata": {},
   "outputs": [
    {
     "name": "stdout",
     "output_type": "stream",
     "text": [
      "([0], 0.0)\n",
      "([1], 0.0)\n",
      "([2], 0.0)\n",
      "([3], 0.0)\n",
      "([4], 0.0)\n",
      "([1, 2], 0.22360679774997894)\n",
      "([0, 2], 0.806225774829855)\n",
      "([2, 3], 0.9219544457292888)\n",
      "([0, 1], 1.0)\n",
      "([0, 1, 2], 1.0)\n",
      "([1, 3], 1.0)\n",
      "([1, 2, 3], 1.0)\n",
      "([0, 4], 1.0)\n",
      "([3, 4], 1.0)\n",
      "([2, 4], 1.2041594578792296)\n",
      "([0, 2, 4], 1.2041594578792296)\n",
      "([2, 3, 4], 1.2041594578792296)\n",
      "([0, 3], 1.4142135623730951)\n",
      "([0, 1, 3], 1.4142135623730951)\n",
      "([0, 2, 3], 1.4142135623730951)\n",
      "([0, 1, 2, 3], 1.4142135623730951)\n",
      "([1, 4], 1.4142135623730951)\n",
      "([0, 1, 4], 1.4142135623730951)\n",
      "([1, 2, 4], 1.4142135623730951)\n",
      "([0, 1, 2, 4], 1.4142135623730951)\n",
      "([0, 3, 4], 1.4142135623730951)\n",
      "([1, 3, 4], 1.4142135623730951)\n",
      "([0, 1, 3, 4], 1.4142135623730951)\n",
      "([0, 2, 3, 4], 1.4142135623730951)\n",
      "([1, 2, 3, 4], 1.4142135623730951)\n",
      "===================\n",
      "(1, (1.0, 1.2041594578792296))\n",
      "(0, (0.0, inf))\n",
      "(0, (0.0, 1.0))\n",
      "(0, (0.0, 0.9219544457292888))\n",
      "(0, (0.0, 0.806225774829855))\n",
      "(0, (0.0, 0.22360679774997894))\n",
      "===================\n",
      "([0], 0.0)\n",
      "([1], 0.0)\n",
      "([2], 0.0)\n",
      "([3], 0.0)\n",
      "([4], 0.0)\n",
      "([1, 2], 0.22360679774997894)\n",
      "([0, 2], 0.806225774829855)\n",
      "([2, 3], 0.9219544457292888)\n",
      "([0, 1], 1.0)\n",
      "([0, 1, 2], 1.0)\n",
      "([1, 3], 1.0)\n",
      "([1, 2, 3], 1.0)\n",
      "([0, 4], 1.0)\n",
      "([3, 4], 1.0)\n",
      "===================\n",
      "(1.0, 1.2041594578792296)\n"
     ]
    },
    {
     "data": {
      "image/png": "[encoded data removed]",
      "text/plain": [
       "<Figure size 432x288 with 1 Axes>"
      ]
     },
     "metadata": {
      "needs_background": "light"
     },
     "output_type": "display_data"
    }
   ],
   "source": [
    "P = np.array([[0, 0], [1, 0], [0.8, 0.1], [1, 1], [0, 1]])\n",
    "plt.plot([0,1,0.8,1,0],[0,0,0.1,1,1],'o')\n",
    "rips_complex = gudhi.RipsComplex(points=P,max_edge_length=1.5)\n",
    "st = rips_complex.create_simplex_tree(max_dimension=3  )\n",
    "for i in st.get_filtration():\n",
    "    print(i)\n",
    "print(\"===================\")\n",
    "for i in st.persistence():\n",
    "    print(i)\n",
    "print(\"===================\")\n",
    "K = choose_int(get_interval(st), 'max')[0]\n",
    "for i in K.get_filtration():\n",
    "    print(i)\n",
    "print(\"===================\")\n",
    "print(choose_int(get_interval(st), 'max')[1])"
   ]
  },
  {
   "cell_type": "code",
   "execution_count": 5,
   "metadata": {},
   "outputs": [],
   "source": [
    "def get_faces(simplex_list):\n",
    "    faces = []\n",
    "    dimension = len(simplex_list) - 1\n",
    "    for i in range(1, dimension+2):\n",
    "        simplex_dim_i = list(itertools.combinations(simplex_list,i))\n",
    "        for k in simplex_dim_i:\n",
    "            faces.append(list(k))\n",
    "    return faces\n",
    "\n",
    "\n",
    "def get_link(v, simplex_tree):\n",
    "    # Find the link of a vertex v in the form of list []\n",
    "    link = []\n",
    "    star = simplex_tree.get_star(v)\n",
    "    for simplex in star:\n",
    "        faces = get_faces(simplex[0])\n",
    "        for face in faces:\n",
    "            if v[0] not in face:\n",
    "                candidate = (face, simplex_tree.filtration(face))\n",
    "                if candidate not in link:\n",
    "                    link.append(candidate)\n",
    "    return link"
   ]
  },
  {
   "cell_type": "code",
   "execution_count": 6,
   "metadata": {},
   "outputs": [],
   "source": [
    "# Associate function\n",
    "# Map each simplex to a list with each component represents the number of a label \n",
    "def Assocaition_function(N, label_list, simplex):\n",
    "    assocation_value = [0 for i in range(N)]\n",
    "    for vertex in simplex:\n",
    "        label_of_vertex = label_list[vertex]\n",
    "        #print(\"vertex is\", vertex, \"with label\", label_of_vertex)\n",
    "        assocation_value[label_of_vertex] += 1\n",
    "    return assocation_value\n",
    "\n",
    "\n",
    "# Extension function\n",
    "# Map each vertex to a list with each component represents a_i\n",
    "def Extension_function(simplex_tree, N, label_list, vertex):\n",
    "    Extension_value = np.zeros((N))\n",
    "    link = get_link(vertex, simplex_tree)\n",
    "    #print(link)\n",
    "    for simplex in link:\n",
    "        if simplex[1] != 0:\n",
    "            Extension_value += (1/simplex[1]) * np.array(Assocaition_function(N, label_list, simplex[0]))\n",
    "        else:\n",
    "            # filtration 为0的simplex 设置为 0.1\n",
    "            Extension_value += 10 * np.array(Assocaition_function(N, label_list, simplex[0]))\n",
    "    return list(Extension_value)\n",
    "\n",
    "\n",
    "def predict_label(extension_value):\n",
    "    return extension_value.index(max(extension_value))"
   ]
  },
  {
   "cell_type": "code",
   "execution_count": 7,
   "metadata": {},
   "outputs": [
    {
     "data": {
      "text/plain": [
       "2"
      ]
     },
     "execution_count": 7,
     "metadata": {},
     "output_type": "execute_result"
    }
   ],
   "source": [
    "# Store the label of each vertex in a list\n",
    "# Label represented by natural number\n",
    "label_value_list = [0,0,0,1,1]\n",
    "# N is the number of labels \n",
    "N = len(set(label_value_list))\n",
    "N"
   ]
  },
  {
   "cell_type": "code",
   "execution_count": 8,
   "metadata": {},
   "outputs": [
    {
     "data": {
      "text/plain": [
       "array([[0. , 0. , 0. ],\n",
       "       [1. , 0. , 0. ],\n",
       "       [0.8, 0.1, 0. ],\n",
       "       [1. , 1. , 1. ],\n",
       "       [0. , 1. , 1. ]])"
      ]
     },
     "execution_count": 8,
     "metadata": {},
     "output_type": "execute_result"
    }
   ],
   "source": [
    "Dataset = np.c_[P,np.array(label_value_list)]\n",
    "Dataset"
   ]
  },
  {
   "cell_type": "code",
   "execution_count": 9,
   "metadata": {},
   "outputs": [
    {
     "data": {
      "text/plain": [
       "[0, 1]"
      ]
     },
     "execution_count": 9,
     "metadata": {},
     "output_type": "execute_result"
    }
   ],
   "source": [
    "# 无问题\n",
    "Assocaition_function(N, label_value_list, [4])"
   ]
  },
  {
   "cell_type": "code",
   "execution_count": 13,
   "metadata": {},
   "outputs": [
    {
     "data": {
      "text/plain": [
       "[23.0, 11.0]"
      ]
     },
     "execution_count": 13,
     "metadata": {},
     "output_type": "execute_result"
    }
   ],
   "source": [
    "choosen_simplex_tree = K\n",
    "Extension_function(choosen_simplex_tree, N, label_value_list, [2]) # 预测正确"
   ]
  },
  {
   "cell_type": "code",
   "execution_count": 14,
   "metadata": {},
   "outputs": [
    {
     "data": {
      "text/plain": [
       "([], [])"
      ]
     },
     "execution_count": 14,
     "metadata": {},
     "output_type": "execute_result"
    },
    {
     "data": {
      "image/png": "[encoded data removed]",
      "text/plain": [
       "<Figure size 576x432 with 1 Axes>"
      ]
     },
     "metadata": {},
     "output_type": "display_data"
    }
   ],
   "source": [
    "import matplotlib.pyplot as plt\n",
    "from mpl_toolkits.mplot3d import Axes3D\n",
    "from sklearn import datasets\n",
    "from sklearn.decomposition import PCA\n",
    "\n",
    "# import some data to play with\n",
    "iris = datasets.load_iris()\n",
    "X = iris.data  \n",
    "y = iris.target\n",
    "pca = PCA(2)# we only take the first two features.\n",
    "z = pca.fit_transform(X)\n",
    "\n",
    "x_min, x_max = X[:, 0].min() - .5, X[:, 0].max() + .5\n",
    "y_min, y_max = X[:, 1].min() - .5, X[:, 1].max() + .5\n",
    "\n",
    "plt.figure(2, figsize=(8, 6))\n",
    "plt.clf()\n",
    "\n",
    "# Plot the training points\n",
    "plt.scatter(X[:, 0], X[:, 1], c=y, cmap=plt.cm.Set1,\n",
    "            edgecolor='k')\n",
    "plt.xlabel('Sepal length')\n",
    "plt.ylabel('Sepal width')\n",
    "\n",
    "plt.xlim(x_min, x_max)\n",
    "plt.ylim(y_min, y_max)\n",
    "plt.xticks(())\n",
    "plt.yticks(())"
   ]
  },
  {
   "cell_type": "code",
   "execution_count": 15,
   "metadata": {},
   "outputs": [],
   "source": [
    "rips_complex = gudhi.RipsComplex(points=z)\n",
    "st = rips_complex.create_simplex_tree(max_dimension=3)\n",
    "K = choose_int(get_interval(st), 'max')[0]\n",
    "\n",
    "# Store the label of each vertex in a list\n",
    "# Label represented by natural number\n",
    "label_value_list = list(y)\n",
    "# N is the number of labels \n",
    "N = len(set(label_value_list))\n",
    "\n",
    "choosen_simplex_tree = K"
   ]
  },
  {
   "cell_type": "code",
   "execution_count": 20,
   "metadata": {},
   "outputs": [],
   "source": [
    "pred_y = []\n",
    "for i in range(len(X)):\n",
    "    extension_value = Extension_function(choosen_simplex_tree, N, label_value_list, [i])\n",
    "    pred_y.append(predict_label(extension_value))\n",
    "pred_y = np.array(pred_y)"
   ]
  },
  {
   "cell_type": "code",
   "execution_count": 17,
   "metadata": {},
   "outputs": [
    {
     "name": "stdout",
     "output_type": "stream",
     "text": [
      "Using TDABC max has accuracy 0.94\n",
      "--- 105.9410650730133 seconds ---\n",
      "Using TDABC avg has accuracy 0.94\n",
      "--- 117.15555882453918 seconds ---\n",
      "Using TDABC rand has accuracy 0.94\n",
      "--- 151.39035081863403 seconds ---\n"
     ]
    }
   ],
   "source": [
    "for m in ['max', 'avg', 'rand']:\n",
    "    start_time = time.time()\n",
    "    K = choose_int(get_interval(st), m)[0]\n",
    "    pred_y = []\n",
    "    for i in range(len(z)):\n",
    "        extension_value = Extension_function(choosen_simplex_tree, N, label_value_list, [i])\n",
    "        pred_y.append(predict_label(extension_value))\n",
    "    pred_y = np.array(pred_y)\n",
    "    print(\"Using TDABC\",m,'has accuracy', np.sum(pred_y == y)/len(z))\n",
    "    print(\"--- %s seconds ---\" % (time.time() - start_time))"
   ]
  },
  {
   "cell_type": "code",
   "execution_count": 21,
   "metadata": {},
   "outputs": [
    {
     "name": "stdout",
     "output_type": "stream",
     "text": [
      "0.9933333333333333\n",
      "--- 0.013247966766357422 seconds ---\n"
     ]
    }
   ],
   "source": [
    "from sklearn.neighbors import KNeighborsClassifier\n",
    "start_time = time.time()\n",
    "neigh = KNeighborsClassifier(n_neighbors=3)\n",
    "neigh.fit(z, y)\n",
    "\n",
    "print(np.sum(neigh.predict(z) == y)/len(z))\n",
    "print(\"--- %s seconds ---\" % (time.time() - start_time))"
   ]
  },
  {
   "cell_type": "code",
   "execution_count": 25,
   "metadata": {},
   "outputs": [
    {
     "name": "stdout",
     "output_type": "stream",
     "text": [
      "Using TDABC max has accuracy 0.8466666666666667\n",
      "--- 271.8079698085785 seconds ---\n",
      "Using TDABC avg has accuracy 0.76\n",
      "--- 141.19700622558594 seconds ---\n",
      "Using TDABC rand has accuracy 0.7866666666666666\n",
      "--- 116.37641716003418 seconds ---\n"
     ]
    }
   ],
   "source": [
    "#experiment on \n",
    "data = []\n",
    "with open('mfeat.txt', 'r') as file:\n",
    "    for row in file: \n",
    "        sp  = []\n",
    "        lst = row.strip().split(' ') \n",
    "        for ele in lst:\n",
    "            if ele != '':\n",
    "                sp.append(float(ele))\n",
    "        data.append(sp)\n",
    "n = len(data)\n",
    "p = len(data[0])\n",
    "X = np.zeros((n,p))\n",
    "for i in range(n):\n",
    "    X[i] = data[i]\n",
    "\n",
    "pca = PCA(2)\n",
    "Y = pca.fit_transform(X)\n",
    "z = np.zeros((150,2))   \n",
    "z[:50] = Y[:50]\n",
    "z[50:100] = Y[200:250]\n",
    "z[100:150] = Y[400:450]\n",
    "true_label = [0]*50+[1]*50+[2]*50\n",
    "\n",
    "N = 3                           \n",
    "rips_complex = gudhi.RipsComplex(points=z)\n",
    "st = rips_complex.create_simplex_tree(max_dimension=3)\n",
    "for m in ['max', 'avg', 'rand']:\n",
    "    start_time = time.time()\n",
    "    K = choose_int(get_interval(st), m)[0]\n",
    "    pred_y = []\n",
    "    for i in range(len(z)):\n",
    "        extension_value = Extension_function(K, N, true_label, [i])\n",
    "        pred_y.append(predict_label(extension_value))\n",
    "    pred_y = np.array(pred_y)\n",
    "    print(\"Using TDABC\",m,'has accuracy', np.sum(pred_y == true_label)/len(z))\n",
    "    print(\"--- %s seconds ---\" % (time.time() - start_time))"
   ]
  },
  {
   "cell_type": "code",
   "execution_count": 26,
   "metadata": {},
   "outputs": [
    {
     "name": "stdout",
     "output_type": "stream",
     "text": [
      "0.8933333333333333\n",
      "--- 0.030861854553222656 seconds ---\n"
     ]
    }
   ],
   "source": [
    "from sklearn.neighbors import KNeighborsClassifier\n",
    "start_time = time.time()\n",
    "neigh = KNeighborsClassifier(n_neighbors=3)\n",
    "neigh.fit(z, true_label)\n",
    "\n",
    "print(np.sum(neigh.predict(z) == true_label)/len(z))\n",
    "print(\"--- %s seconds ---\" % (time.time() - start_time))"
   ]
  },
  {
   "cell_type": "code",
   "execution_count": 22,
   "metadata": {},
   "outputs": [
    {
     "data": {
      "image/png": "[encoded data removed]",
      "text/plain": [
       "<Figure size 432x288 with 1 Axes>"
      ]
     },
     "metadata": {
      "needs_background": "light"
     },
     "output_type": "display_data"
    }
   ],
   "source": [
    "us1_x = []\n",
    "us1_y = []\n",
    "us2_x = []\n",
    "us2_y = []\n",
    "us3_x = []\n",
    "us3_y = []\n",
    "for i in range(20):\n",
    "    # random angle\n",
    "    alpha1 = 2 * math.pi * random.random()\n",
    "    alpha2 = 2 * math.pi * random.random()\n",
    "    alpha3 = 2 * math.pi * random.random()\n",
    "    #random radius\n",
    "    r1 = math.sqrt(random.random())\n",
    "    r2 = math.sqrt(random.random())\n",
    "    r3 = math.sqrt(random.random())\n",
    "    #generate samples\n",
    "    x1 = 2+math.cos(alpha1) * r1\n",
    "    y1 = 2+math.sin(alpha1) * r1\n",
    "    us1_x.append(x1)\n",
    "    us1_y.append(y1)\n",
    "    x2 = 1+math.cos(alpha2) * r2\n",
    "    y2 = 1+math.sin(alpha2) * r2\n",
    "    us2_x.append(x2)\n",
    "    us2_y.append(y2)\n",
    "    x3 = 4+math.cos(alpha1) * r3\n",
    "    y3 = 4+math.sin(alpha1) * r3\n",
    "    us3_x.append(x3)\n",
    "    us3_y.append(y3)\n",
    "\n",
    "plt.plot(us1_x, us1_y, 'o')\n",
    "plt.plot(us2_x, us2_y, 'o')\n",
    "plt.plot(us3_x, us3_y, 'o')\n",
    "\n",
    "X = np.zeros((60,2))\n",
    "X[:,0] = np.concatenate((us1_x, us2_x, us3_x))\n",
    "X[:,1] = np.concatenate((us1_y, us2_y, us3_y))"
   ]
  },
  {
   "cell_type": "code",
   "execution_count": 23,
   "metadata": {},
   "outputs": [
    {
     "name": "stdout",
     "output_type": "stream",
     "text": [
      "Using TDABC max has accuracy 0.9666666666666667\n",
      "--- 1.1456270217895508 seconds ---\n",
      "Using TDABC avg has accuracy 0.9666666666666667\n",
      "--- 1.0527539253234863 seconds ---\n",
      "Using TDABC rand has accuracy 0.9666666666666667\n",
      "--- 1.0421149730682373 seconds ---\n"
     ]
    }
   ],
   "source": [
    "true_label = [0]*20+[1]*20+[2]*20\n",
    "\n",
    "rips_complex = gudhi.RipsComplex(points=X)\n",
    "st = rips_complex.create_simplex_tree(max_dimension=3)\n",
    "N = 3\n",
    "for m in ['max', 'avg', 'rand']:\n",
    "    start_time = time.time()\n",
    "    K = choose_int(get_interval(st), m)[0]\n",
    "    pred_y = []\n",
    "    for i in range(len(X)):\n",
    "        extension_value = Extension_function(K, N, true_label, [i])\n",
    "        pred_y.append(predict_label(extension_value))\n",
    "    pred_y = np.array(pred_y)\n",
    "    print(\"Using TDABC\",m,'has accuracy', np.sum(pred_y == true_label)/len(X))\n",
    "    print(\"--- %s seconds ---\" % (time.time() - start_time))"
   ]
  },
  {
   "cell_type": "code",
   "execution_count": 24,
   "metadata": {},
   "outputs": [
    {
     "name": "stdout",
     "output_type": "stream",
     "text": [
      "0.9666666666666667\n",
      "--- 0.01034402847290039 seconds ---\n"
     ]
    }
   ],
   "source": [
    "from sklearn.neighbors import KNeighborsClassifier\n",
    "start_time = time.time()\n",
    "neigh = KNeighborsClassifier(n_neighbors=3)\n",
    "true_label = [0]*20+[1]*20+[2]*20\n",
    "neigh.fit(X, true_label)\n",
    "print(np.sum(neigh.predict(X) == true_label)/len(X))\n",
    "print(\"--- %s seconds ---\" % (time.time() - start_time))"
   ]
  },
  {
   "cell_type": "code",
   "execution_count": null,
   "metadata": {},
   "outputs": [],
   "source": []
  }
 ],
 "metadata": {
  "kernelspec": {
   "display_name": "Python 3",
   "language": "python",
   "name": "python3"
  },
  "language_info": {
   "codemirror_mode": {
    "name": "ipython",
    "version": 3
   },
   "file_extension": ".py",
   "mimetype": "text/x-python",
   "name": "python",
   "nbconvert_exporter": "python",
   "pygments_lexer": "ipython3",
   "version": "3.8.5"
  }
 },
 "nbformat": 4,
 "nbformat_minor": 4
}
